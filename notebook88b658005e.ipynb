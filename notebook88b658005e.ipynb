{
 "cells": [
  {
   "cell_type": "code",
   "execution_count": 1,
   "id": "43188390",
   "metadata": {
    "_cell_guid": "b1076dfc-b9ad-4769-8c92-a6c4dae69d19",
    "_uuid": "8f2839f25d086af736a60e9eeb907d3b93b6e0e5",
    "execution": {
     "iopub.execute_input": "2024-08-04T12:05:21.211439Z",
     "iopub.status.busy": "2024-08-04T12:05:21.210922Z",
     "iopub.status.idle": "2024-08-04T12:05:22.220630Z",
     "shell.execute_reply": "2024-08-04T12:05:22.219134Z"
    },
    "papermill": {
     "duration": 1.023447,
     "end_time": "2024-08-04T12:05:22.223910",
     "exception": false,
     "start_time": "2024-08-04T12:05:21.200463",
     "status": "completed"
    },
    "tags": []
   },
   "outputs": [
    {
     "name": "stdout",
     "output_type": "stream",
     "text": [
      "/kaggle/input/job-description-dataset/job_descriptions.csv\n"
     ]
    }
   ],
   "source": [
    "# This Python 3 environment comes with many helpful analytics libraries installed\n",
    "# It is defined by the kaggle/python Docker image: https://github.com/kaggle/docker-python\n",
    "# For example, here's several helpful packages to load\n",
    "\n",
    "import numpy as np # linear algebra\n",
    "import pandas as pd # data processing, CSV file I/O (e.g. pd.read_csv)\n",
    "\n",
    "# Input data files are available in the read-only \"../input/\" directory\n",
    "# For example, running this (by clicking run or pressing Shift+Enter) will list all files under the input directory\n",
    "\n",
    "import os\n",
    "for dirname, _, filenames in os.walk('/kaggle/input'):\n",
    "    for filename in filenames:\n",
    "        print(os.path.join(dirname, filename))\n",
    "\n",
    "# You can write up to 20GB to the current directory (/kaggle/working/) that gets preserved as output when you create a version using \"Save & Run All\" \n",
    "# You can also write temporary files to /kaggle/temp/, but they won't be saved outside of the current session"
   ]
  },
  {
   "cell_type": "code",
   "execution_count": 2,
   "id": "ea386c33",
   "metadata": {
    "execution": {
     "iopub.execute_input": "2024-08-04T12:05:22.243266Z",
     "iopub.status.busy": "2024-08-04T12:05:22.242597Z",
     "iopub.status.idle": "2024-08-04T12:05:22.249131Z",
     "shell.execute_reply": "2024-08-04T12:05:22.247466Z"
    },
    "papermill": {
     "duration": 0.0196,
     "end_time": "2024-08-04T12:05:22.251962",
     "exception": false,
     "start_time": "2024-08-04T12:05:22.232362",
     "status": "completed"
    },
    "tags": []
   },
   "outputs": [],
   "source": [
    "import pandas as pd\n",
    "import numpy as np"
   ]
  },
  {
   "cell_type": "code",
   "execution_count": 3,
   "id": "8113a824",
   "metadata": {
    "execution": {
     "iopub.execute_input": "2024-08-04T12:05:22.269674Z",
     "iopub.status.busy": "2024-08-04T12:05:22.269273Z",
     "iopub.status.idle": "2024-08-04T12:06:10.087505Z",
     "shell.execute_reply": "2024-08-04T12:06:10.086296Z"
    },
    "papermill": {
     "duration": 47.838888,
     "end_time": "2024-08-04T12:06:10.098861",
     "exception": false,
     "start_time": "2024-08-04T12:05:22.259973",
     "status": "completed"
    },
    "tags": []
   },
   "outputs": [
    {
     "data": {
      "text/html": [
       "<div>\n",
       "<style scoped>\n",
       "    .dataframe tbody tr th:only-of-type {\n",
       "        vertical-align: middle;\n",
       "    }\n",
       "\n",
       "    .dataframe tbody tr th {\n",
       "        vertical-align: top;\n",
       "    }\n",
       "\n",
       "    .dataframe thead th {\n",
       "        text-align: right;\n",
       "    }\n",
       "</style>\n",
       "<table border=\"1\" class=\"dataframe\">\n",
       "  <thead>\n",
       "    <tr style=\"text-align: right;\">\n",
       "      <th></th>\n",
       "      <th>Job Id</th>\n",
       "      <th>Experience</th>\n",
       "      <th>Qualifications</th>\n",
       "      <th>Salary Range</th>\n",
       "      <th>location</th>\n",
       "      <th>Country</th>\n",
       "      <th>latitude</th>\n",
       "      <th>longitude</th>\n",
       "      <th>Work Type</th>\n",
       "      <th>Company Size</th>\n",
       "      <th>...</th>\n",
       "      <th>Contact</th>\n",
       "      <th>Job Title</th>\n",
       "      <th>Role</th>\n",
       "      <th>Job Portal</th>\n",
       "      <th>Job Description</th>\n",
       "      <th>Benefits</th>\n",
       "      <th>skills</th>\n",
       "      <th>Responsibilities</th>\n",
       "      <th>Company</th>\n",
       "      <th>Company Profile</th>\n",
       "    </tr>\n",
       "  </thead>\n",
       "  <tbody>\n",
       "    <tr>\n",
       "      <th>0</th>\n",
       "      <td>1089843540111562</td>\n",
       "      <td>5 to 15 Years</td>\n",
       "      <td>M.Tech</td>\n",
       "      <td>$59K-$99K</td>\n",
       "      <td>Douglas</td>\n",
       "      <td>Isle of Man</td>\n",
       "      <td>54.2361</td>\n",
       "      <td>-4.5481</td>\n",
       "      <td>Intern</td>\n",
       "      <td>26801</td>\n",
       "      <td>...</td>\n",
       "      <td>001-381-930-7517x737</td>\n",
       "      <td>Digital Marketing Specialist</td>\n",
       "      <td>Social Media Manager</td>\n",
       "      <td>Snagajob</td>\n",
       "      <td>Social Media Managers oversee an organizations...</td>\n",
       "      <td>{'Flexible Spending Accounts (FSAs), Relocatio...</td>\n",
       "      <td>Social media platforms (e.g., Facebook, Twitte...</td>\n",
       "      <td>Manage and grow social media accounts, create ...</td>\n",
       "      <td>Icahn Enterprises</td>\n",
       "      <td>{\"Sector\":\"Diversified\",\"Industry\":\"Diversifie...</td>\n",
       "    </tr>\n",
       "    <tr>\n",
       "      <th>1</th>\n",
       "      <td>398454096642776</td>\n",
       "      <td>2 to 12 Years</td>\n",
       "      <td>BCA</td>\n",
       "      <td>$56K-$116K</td>\n",
       "      <td>Ashgabat</td>\n",
       "      <td>Turkmenistan</td>\n",
       "      <td>38.9697</td>\n",
       "      <td>59.5563</td>\n",
       "      <td>Intern</td>\n",
       "      <td>100340</td>\n",
       "      <td>...</td>\n",
       "      <td>461-509-4216</td>\n",
       "      <td>Web Developer</td>\n",
       "      <td>Frontend Web Developer</td>\n",
       "      <td>Idealist</td>\n",
       "      <td>Frontend Web Developers design and implement u...</td>\n",
       "      <td>{'Health Insurance, Retirement Plans, Paid Tim...</td>\n",
       "      <td>HTML, CSS, JavaScript Frontend frameworks (e.g...</td>\n",
       "      <td>Design and code user interfaces for websites, ...</td>\n",
       "      <td>PNC Financial Services Group</td>\n",
       "      <td>{\"Sector\":\"Financial Services\",\"Industry\":\"Com...</td>\n",
       "    </tr>\n",
       "  </tbody>\n",
       "</table>\n",
       "<p>2 rows × 23 columns</p>\n",
       "</div>"
      ],
      "text/plain": [
       "             Job Id     Experience Qualifications Salary Range  location  \\\n",
       "0  1089843540111562  5 to 15 Years         M.Tech    $59K-$99K   Douglas   \n",
       "1   398454096642776  2 to 12 Years            BCA   $56K-$116K  Ashgabat   \n",
       "\n",
       "        Country  latitude  longitude Work Type  Company Size  ...  \\\n",
       "0   Isle of Man   54.2361    -4.5481    Intern         26801  ...   \n",
       "1  Turkmenistan   38.9697    59.5563    Intern        100340  ...   \n",
       "\n",
       "                Contact                     Job Title                    Role  \\\n",
       "0  001-381-930-7517x737  Digital Marketing Specialist    Social Media Manager   \n",
       "1          461-509-4216                 Web Developer  Frontend Web Developer   \n",
       "\n",
       "  Job Portal                                    Job Description  \\\n",
       "0   Snagajob  Social Media Managers oversee an organizations...   \n",
       "1   Idealist  Frontend Web Developers design and implement u...   \n",
       "\n",
       "                                            Benefits  \\\n",
       "0  {'Flexible Spending Accounts (FSAs), Relocatio...   \n",
       "1  {'Health Insurance, Retirement Plans, Paid Tim...   \n",
       "\n",
       "                                              skills  \\\n",
       "0  Social media platforms (e.g., Facebook, Twitte...   \n",
       "1  HTML, CSS, JavaScript Frontend frameworks (e.g...   \n",
       "\n",
       "                                    Responsibilities  \\\n",
       "0  Manage and grow social media accounts, create ...   \n",
       "1  Design and code user interfaces for websites, ...   \n",
       "\n",
       "                        Company  \\\n",
       "0             Icahn Enterprises   \n",
       "1  PNC Financial Services Group   \n",
       "\n",
       "                                     Company Profile  \n",
       "0  {\"Sector\":\"Diversified\",\"Industry\":\"Diversifie...  \n",
       "1  {\"Sector\":\"Financial Services\",\"Industry\":\"Com...  \n",
       "\n",
       "[2 rows x 23 columns]"
      ]
     },
     "execution_count": 3,
     "metadata": {},
     "output_type": "execute_result"
    }
   ],
   "source": [
    "df = pd.read_csv(\"/kaggle/input/job-description-dataset/job_descriptions.csv\")\n",
    "df.head(2)"
   ]
  },
  {
   "cell_type": "code",
   "execution_count": 4,
   "id": "c6c6fdf5",
   "metadata": {
    "execution": {
     "iopub.execute_input": "2024-08-04T12:06:10.118998Z",
     "iopub.status.busy": "2024-08-04T12:06:10.117430Z",
     "iopub.status.idle": "2024-08-04T12:06:10.127853Z",
     "shell.execute_reply": "2024-08-04T12:06:10.126391Z"
    },
    "papermill": {
     "duration": 0.023291,
     "end_time": "2024-08-04T12:06:10.130411",
     "exception": false,
     "start_time": "2024-08-04T12:06:10.107120",
     "status": "completed"
    },
    "tags": []
   },
   "outputs": [
    {
     "data": {
      "text/plain": [
       "Index(['Job Id', 'Experience', 'Qualifications', 'Salary Range', 'location',\n",
       "       'Country', 'latitude', 'longitude', 'Work Type', 'Company Size',\n",
       "       'Job Posting Date', 'Preference', 'Contact Person', 'Contact',\n",
       "       'Job Title', 'Role', 'Job Portal', 'Job Description', 'Benefits',\n",
       "       'skills', 'Responsibilities', 'Company', 'Company Profile'],\n",
       "      dtype='object')"
      ]
     },
     "execution_count": 4,
     "metadata": {},
     "output_type": "execute_result"
    }
   ],
   "source": [
    "df.columns"
   ]
  },
  {
   "cell_type": "code",
   "execution_count": 5,
   "id": "8beaa6de",
   "metadata": {
    "execution": {
     "iopub.execute_input": "2024-08-04T12:06:10.150167Z",
     "iopub.status.busy": "2024-08-04T12:06:10.149713Z",
     "iopub.status.idle": "2024-08-04T12:06:13.439578Z",
     "shell.execute_reply": "2024-08-04T12:06:13.437582Z"
    },
    "papermill": {
     "duration": 3.303113,
     "end_time": "2024-08-04T12:06:13.442477",
     "exception": false,
     "start_time": "2024-08-04T12:06:10.139364",
     "status": "completed"
    },
    "tags": []
   },
   "outputs": [
    {
     "name": "stdout",
     "output_type": "stream",
     "text": [
      "<class 'pandas.core.frame.DataFrame'>\n",
      "RangeIndex: 1615940 entries, 0 to 1615939\n",
      "Data columns (total 23 columns):\n",
      " #   Column            Non-Null Count    Dtype  \n",
      "---  ------            --------------    -----  \n",
      " 0   Job Id            1615940 non-null  int64  \n",
      " 1   Experience        1615940 non-null  object \n",
      " 2   Qualifications    1615940 non-null  object \n",
      " 3   Salary Range      1615940 non-null  object \n",
      " 4   location          1615940 non-null  object \n",
      " 5   Country           1615940 non-null  object \n",
      " 6   latitude          1615940 non-null  float64\n",
      " 7   longitude         1615940 non-null  float64\n",
      " 8   Work Type         1615940 non-null  object \n",
      " 9   Company Size      1615940 non-null  int64  \n",
      " 10  Job Posting Date  1615940 non-null  object \n",
      " 11  Preference        1615940 non-null  object \n",
      " 12  Contact Person    1615940 non-null  object \n",
      " 13  Contact           1615940 non-null  object \n",
      " 14  Job Title         1615940 non-null  object \n",
      " 15  Role              1615940 non-null  object \n",
      " 16  Job Portal        1615940 non-null  object \n",
      " 17  Job Description   1615940 non-null  object \n",
      " 18  Benefits          1615940 non-null  object \n",
      " 19  skills            1615940 non-null  object \n",
      " 20  Responsibilities  1615940 non-null  object \n",
      " 21  Company           1615940 non-null  object \n",
      " 22  Company Profile   1610462 non-null  object \n",
      "dtypes: float64(2), int64(2), object(19)\n",
      "memory usage: 283.6+ MB\n"
     ]
    },
    {
     "data": {
      "text/plain": [
       "(1615940, 23)"
      ]
     },
     "execution_count": 5,
     "metadata": {},
     "output_type": "execute_result"
    }
   ],
   "source": [
    "df.info()\n",
    "df.shape"
   ]
  },
  {
   "cell_type": "code",
   "execution_count": 6,
   "id": "1f2a1670",
   "metadata": {
    "execution": {
     "iopub.execute_input": "2024-08-04T12:06:13.462080Z",
     "iopub.status.busy": "2024-08-04T12:06:13.461621Z",
     "iopub.status.idle": "2024-08-04T12:06:13.469412Z",
     "shell.execute_reply": "2024-08-04T12:06:13.468218Z"
    },
    "papermill": {
     "duration": 0.020963,
     "end_time": "2024-08-04T12:06:13.472124",
     "exception": false,
     "start_time": "2024-08-04T12:06:13.451161",
     "status": "completed"
    },
    "tags": []
   },
   "outputs": [],
   "source": [
    "df.rename(columns = {'Job Id':'Job_Id','Salary Range':'Salary_Range','Work Type':'Work_Type','Company Size':'Company_Size','Job Posting Date':'Job_Posting_Date','Contact Person':'Contact_Person','Job Title':'Job_Title','Job Portal':'Job_Portal','Job Description':'Job_Description','Company Profile':'Company_Profile'},inplace=True)"
   ]
  },
  {
   "cell_type": "code",
   "execution_count": 7,
   "id": "fff3319f",
   "metadata": {
    "execution": {
     "iopub.execute_input": "2024-08-04T12:06:13.491396Z",
     "iopub.status.busy": "2024-08-04T12:06:13.490949Z",
     "iopub.status.idle": "2024-08-04T12:06:13.499468Z",
     "shell.execute_reply": "2024-08-04T12:06:13.498112Z"
    },
    "papermill": {
     "duration": 0.021431,
     "end_time": "2024-08-04T12:06:13.502343",
     "exception": false,
     "start_time": "2024-08-04T12:06:13.480912",
     "status": "completed"
    },
    "tags": []
   },
   "outputs": [
    {
     "data": {
      "text/plain": [
       "Index(['Job_Id', 'Experience', 'Qualifications', 'Salary_Range', 'location',\n",
       "       'Country', 'latitude', 'longitude', 'Work_Type', 'Company_Size',\n",
       "       'Job_Posting_Date', 'Preference', 'Contact_Person', 'Contact',\n",
       "       'Job_Title', 'Role', 'Job_Portal', 'Job_Description', 'Benefits',\n",
       "       'skills', 'Responsibilities', 'Company', 'Company_Profile'],\n",
       "      dtype='object')"
      ]
     },
     "execution_count": 7,
     "metadata": {},
     "output_type": "execute_result"
    }
   ],
   "source": [
    "df.columns"
   ]
  },
  {
   "cell_type": "code",
   "execution_count": 8,
   "id": "7aa6f29c",
   "metadata": {
    "execution": {
     "iopub.execute_input": "2024-08-04T12:06:13.522890Z",
     "iopub.status.busy": "2024-08-04T12:06:13.522439Z",
     "iopub.status.idle": "2024-08-04T12:06:16.814483Z",
     "shell.execute_reply": "2024-08-04T12:06:16.813139Z"
    },
    "papermill": {
     "duration": 3.305706,
     "end_time": "2024-08-04T12:06:16.817418",
     "exception": false,
     "start_time": "2024-08-04T12:06:13.511712",
     "status": "completed"
    },
    "tags": []
   },
   "outputs": [
    {
     "data": {
      "text/plain": [
       "Job_Id                 0\n",
       "Experience             0\n",
       "Qualifications         0\n",
       "Salary_Range           0\n",
       "location               0\n",
       "Country                0\n",
       "latitude               0\n",
       "longitude              0\n",
       "Work_Type              0\n",
       "Company_Size           0\n",
       "Job_Posting_Date       0\n",
       "Preference             0\n",
       "Contact_Person         0\n",
       "Contact                0\n",
       "Job_Title              0\n",
       "Role                   0\n",
       "Job_Portal             0\n",
       "Job_Description        0\n",
       "Benefits               0\n",
       "skills                 0\n",
       "Responsibilities       0\n",
       "Company                0\n",
       "Company_Profile     5478\n",
       "dtype: int64"
      ]
     },
     "execution_count": 8,
     "metadata": {},
     "output_type": "execute_result"
    }
   ],
   "source": [
    "df.isnull().sum()"
   ]
  },
  {
   "cell_type": "code",
   "execution_count": 9,
   "id": "0c2de038",
   "metadata": {
    "execution": {
     "iopub.execute_input": "2024-08-04T12:06:16.837723Z",
     "iopub.status.busy": "2024-08-04T12:06:16.837275Z",
     "iopub.status.idle": "2024-08-04T12:06:16.845148Z",
     "shell.execute_reply": "2024-08-04T12:06:16.843876Z"
    },
    "papermill": {
     "duration": 0.0212,
     "end_time": "2024-08-04T12:06:16.847731",
     "exception": false,
     "start_time": "2024-08-04T12:06:16.826531",
     "status": "completed"
    },
    "tags": []
   },
   "outputs": [
    {
     "data": {
      "text/plain": [
       "(1615940, 23)"
      ]
     },
     "execution_count": 9,
     "metadata": {},
     "output_type": "execute_result"
    }
   ],
   "source": [
    "df.shape"
   ]
  },
  {
   "cell_type": "code",
   "execution_count": 10,
   "id": "46f6764b",
   "metadata": {
    "execution": {
     "iopub.execute_input": "2024-08-04T12:06:16.867655Z",
     "iopub.status.busy": "2024-08-04T12:06:16.867264Z",
     "iopub.status.idle": "2024-08-04T12:06:20.602440Z",
     "shell.execute_reply": "2024-08-04T12:06:20.601283Z"
    },
    "papermill": {
     "duration": 3.748798,
     "end_time": "2024-08-04T12:06:20.605625",
     "exception": false,
     "start_time": "2024-08-04T12:06:16.856827",
     "status": "completed"
    },
    "tags": []
   },
   "outputs": [],
   "source": [
    "df.dropna(inplace=True)"
   ]
  },
  {
   "cell_type": "code",
   "execution_count": 11,
   "id": "a7496d64",
   "metadata": {
    "execution": {
     "iopub.execute_input": "2024-08-04T12:06:20.625762Z",
     "iopub.status.busy": "2024-08-04T12:06:20.625359Z",
     "iopub.status.idle": "2024-08-04T12:06:23.864504Z",
     "shell.execute_reply": "2024-08-04T12:06:23.863380Z"
    },
    "papermill": {
     "duration": 3.252466,
     "end_time": "2024-08-04T12:06:23.867299",
     "exception": false,
     "start_time": "2024-08-04T12:06:20.614833",
     "status": "completed"
    },
    "tags": []
   },
   "outputs": [
    {
     "data": {
      "text/plain": [
       "Job_Id              0\n",
       "Experience          0\n",
       "Qualifications      0\n",
       "Salary_Range        0\n",
       "location            0\n",
       "Country             0\n",
       "latitude            0\n",
       "longitude           0\n",
       "Work_Type           0\n",
       "Company_Size        0\n",
       "Job_Posting_Date    0\n",
       "Preference          0\n",
       "Contact_Person      0\n",
       "Contact             0\n",
       "Job_Title           0\n",
       "Role                0\n",
       "Job_Portal          0\n",
       "Job_Description     0\n",
       "Benefits            0\n",
       "skills              0\n",
       "Responsibilities    0\n",
       "Company             0\n",
       "Company_Profile     0\n",
       "dtype: int64"
      ]
     },
     "execution_count": 11,
     "metadata": {},
     "output_type": "execute_result"
    }
   ],
   "source": [
    "df.isnull().sum()"
   ]
  },
  {
   "cell_type": "code",
   "execution_count": 12,
   "id": "04de6d09",
   "metadata": {
    "execution": {
     "iopub.execute_input": "2024-08-04T12:06:23.888630Z",
     "iopub.status.busy": "2024-08-04T12:06:23.887493Z",
     "iopub.status.idle": "2024-08-04T12:06:30.816762Z",
     "shell.execute_reply": "2024-08-04T12:06:30.815527Z"
    },
    "papermill": {
     "duration": 6.943552,
     "end_time": "2024-08-04T12:06:30.820182",
     "exception": false,
     "start_time": "2024-08-04T12:06:23.876630",
     "status": "completed"
    },
    "tags": []
   },
   "outputs": [],
   "source": [
    "df.drop_duplicates(inplace=True)"
   ]
  },
  {
   "cell_type": "code",
   "execution_count": 13,
   "id": "efb15b9d",
   "metadata": {
    "execution": {
     "iopub.execute_input": "2024-08-04T12:06:30.842069Z",
     "iopub.status.busy": "2024-08-04T12:06:30.841079Z",
     "iopub.status.idle": "2024-08-04T12:06:31.316601Z",
     "shell.execute_reply": "2024-08-04T12:06:31.315484Z"
    },
    "papermill": {
     "duration": 0.488839,
     "end_time": "2024-08-04T12:06:31.319355",
     "exception": false,
     "start_time": "2024-08-04T12:06:30.830516",
     "status": "completed"
    },
    "tags": []
   },
   "outputs": [],
   "source": [
    "df['Job_Posting_Date'] = pd.to_datetime(df['Job_Posting_Date'])"
   ]
  },
  {
   "cell_type": "code",
   "execution_count": 14,
   "id": "90527da8",
   "metadata": {
    "execution": {
     "iopub.execute_input": "2024-08-04T12:06:31.339712Z",
     "iopub.status.busy": "2024-08-04T12:06:31.339318Z",
     "iopub.status.idle": "2024-08-04T12:06:31.583737Z",
     "shell.execute_reply": "2024-08-04T12:06:31.582575Z"
    },
    "papermill": {
     "duration": 0.258136,
     "end_time": "2024-08-04T12:06:31.586864",
     "exception": false,
     "start_time": "2024-08-04T12:06:31.328728",
     "status": "completed"
    },
    "tags": []
   },
   "outputs": [],
   "source": [
    "start_date = '2021-11-30'\n",
    "end_date = '2022-03-30'\n",
    "df = df[(df['Job_Posting_Date'] >= start_date) & (df['Job_Posting_Date'] <= end_date)]\n"
   ]
  },
  {
   "cell_type": "code",
   "execution_count": 15,
   "id": "e2a6d7b2",
   "metadata": {
    "execution": {
     "iopub.execute_input": "2024-08-04T12:06:31.608059Z",
     "iopub.status.busy": "2024-08-04T12:06:31.606865Z",
     "iopub.status.idle": "2024-08-04T12:06:31.819878Z",
     "shell.execute_reply": "2024-08-04T12:06:31.818683Z"
    },
    "papermill": {
     "duration": 0.22623,
     "end_time": "2024-08-04T12:06:31.822425",
     "exception": false,
     "start_time": "2024-08-04T12:06:31.596195",
     "status": "completed"
    },
    "tags": []
   },
   "outputs": [
    {
     "data": {
      "text/plain": [
       "8          False\n",
       "12         False\n",
       "14         False\n",
       "18         False\n",
       "20         False\n",
       "           ...  \n",
       "1615928    False\n",
       "1615929    False\n",
       "1615933    False\n",
       "1615937    False\n",
       "1615938    False\n",
       "Length: 266589, dtype: bool"
      ]
     },
     "execution_count": 15,
     "metadata": {},
     "output_type": "execute_result"
    }
   ],
   "source": [
    " (\n",
    "        ((df['Preference'] == 'Male') & (df['Work_Type'] == 'Contract')) |\n",
    "        ((df['Preference'] == 'Female') & (df['Work_Type'] == 'Full-time'))\n",
    "    )"
   ]
  },
  {
   "cell_type": "code",
   "execution_count": 16,
   "id": "baf5ae47",
   "metadata": {
    "execution": {
     "iopub.execute_input": "2024-08-04T12:06:31.842713Z",
     "iopub.status.busy": "2024-08-04T12:06:31.841852Z",
     "iopub.status.idle": "2024-08-04T12:06:32.002536Z",
     "shell.execute_reply": "2024-08-04T12:06:32.000824Z"
    },
    "papermill": {
     "duration": 0.174137,
     "end_time": "2024-08-04T12:06:32.005614",
     "exception": false,
     "start_time": "2024-08-04T12:06:31.831477",
     "status": "completed"
    },
    "tags": []
   },
   "outputs": [],
   "source": [
    "df = df[df['Company'].str.startswith(('M', 'A', 'E'))]"
   ]
  },
  {
   "cell_type": "code",
   "execution_count": 17,
   "id": "4f2e85c9",
   "metadata": {
    "execution": {
     "iopub.execute_input": "2024-08-04T12:06:32.026515Z",
     "iopub.status.busy": "2024-08-04T12:06:32.026101Z",
     "iopub.status.idle": "2024-08-04T12:06:32.049150Z",
     "shell.execute_reply": "2024-08-04T12:06:32.047964Z"
    },
    "papermill": {
     "duration": 0.036794,
     "end_time": "2024-08-04T12:06:32.051983",
     "exception": false,
     "start_time": "2024-08-04T12:06:32.015189",
     "status": "completed"
    },
    "tags": []
   },
   "outputs": [],
   "source": [
    "df = df[df['Job_Portal'] == 'indeed']"
   ]
  },
  {
   "cell_type": "code",
   "execution_count": 18,
   "id": "7ce8bd08",
   "metadata": {
    "execution": {
     "iopub.execute_input": "2024-08-04T12:06:32.072953Z",
     "iopub.status.busy": "2024-08-04T12:06:32.072502Z",
     "iopub.status.idle": "2024-08-04T12:06:32.080202Z",
     "shell.execute_reply": "2024-08-04T12:06:32.078587Z"
    },
    "papermill": {
     "duration": 0.021306,
     "end_time": "2024-08-04T12:06:32.082805",
     "exception": false,
     "start_time": "2024-08-04T12:06:32.061499",
     "status": "completed"
    },
    "tags": []
   },
   "outputs": [],
   "source": [
    "df = df[df['Country'].str.startswith('B')]"
   ]
  },
  {
   "cell_type": "code",
   "execution_count": 19,
   "id": "2b186361",
   "metadata": {
    "execution": {
     "iopub.execute_input": "2024-08-04T12:06:32.103957Z",
     "iopub.status.busy": "2024-08-04T12:06:32.103066Z",
     "iopub.status.idle": "2024-08-04T12:06:32.137484Z",
     "shell.execute_reply": "2024-08-04T12:06:32.136112Z"
    },
    "papermill": {
     "duration": 0.04806,
     "end_time": "2024-08-04T12:06:32.140222",
     "exception": false,
     "start_time": "2024-08-04T12:06:32.092162",
     "status": "completed"
    },
    "tags": []
   },
   "outputs": [],
   "source": [
    "result = df.groupby(['Role', 'Job_Title']).size().reset_index(name='Job_Postings')"
   ]
  },
  {
   "cell_type": "code",
   "execution_count": 20,
   "id": "c56f3fe9",
   "metadata": {
    "execution": {
     "iopub.execute_input": "2024-08-04T12:06:32.160964Z",
     "iopub.status.busy": "2024-08-04T12:06:32.160514Z",
     "iopub.status.idle": "2024-08-04T12:06:32.168715Z",
     "shell.execute_reply": "2024-08-04T12:06:32.167500Z"
    },
    "papermill": {
     "duration": 0.022079,
     "end_time": "2024-08-04T12:06:32.171649",
     "exception": false,
     "start_time": "2024-08-04T12:06:32.149570",
     "status": "completed"
    },
    "tags": []
   },
   "outputs": [],
   "source": [
    "result.to_csv('filtered_job_postings.csv', index=False)"
   ]
  },
  {
   "cell_type": "code",
   "execution_count": null,
   "id": "0c3eedad",
   "metadata": {
    "papermill": {
     "duration": 0.008646,
     "end_time": "2024-08-04T12:06:32.189433",
     "exception": false,
     "start_time": "2024-08-04T12:06:32.180787",
     "status": "completed"
    },
    "tags": []
   },
   "outputs": [],
   "source": []
  }
 ],
 "metadata": {
  "kaggle": {
   "accelerator": "none",
   "dataSources": [
    {
     "datasetId": 3749643,
     "sourceId": 6488828,
     "sourceType": "datasetVersion"
    }
   ],
   "dockerImageVersionId": 30746,
   "isGpuEnabled": false,
   "isInternetEnabled": false,
   "language": "python",
   "sourceType": "notebook"
  },
  "kernelspec": {
   "display_name": "Python 3",
   "language": "python",
   "name": "python3"
  },
  "language_info": {
   "codemirror_mode": {
    "name": "ipython",
    "version": 3
   },
   "file_extension": ".py",
   "mimetype": "text/x-python",
   "name": "python",
   "nbconvert_exporter": "python",
   "pygments_lexer": "ipython3",
   "version": "3.10.13"
  },
  "papermill": {
   "default_parameters": {},
   "duration": 75.187728,
   "end_time": "2024-08-04T12:06:33.023192",
   "environment_variables": {},
   "exception": null,
   "input_path": "__notebook__.ipynb",
   "output_path": "__notebook__.ipynb",
   "parameters": {},
   "start_time": "2024-08-04T12:05:17.835464",
   "version": "2.5.0"
  }
 },
 "nbformat": 4,
 "nbformat_minor": 5
}
